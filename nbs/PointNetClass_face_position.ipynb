{
 "metadata": {
  "language_info": {
   "codemirror_mode": {
    "name": "ipython",
    "version": 3
   },
   "file_extension": ".py",
   "mimetype": "text/x-python",
   "name": "python",
   "nbconvert_exporter": "python",
   "pygments_lexer": "ipython3",
   "version": "3.7.9-final"
  },
  "orig_nbformat": 2,
  "kernelspec": {
   "name": "Python 3.7.9 64-bit ('pytorch': conda)",
   "display_name": "Python 3.7.9 64-bit ('pytorch': conda)",
   "metadata": {
    "interpreter": {
     "hash": "48fd179440322e061cbc970dcdf365600b1385398598600899ab36021fced37c"
    }
   }
  }
 },
 "nbformat": 4,
 "nbformat_minor": 2,
 "cells": [
  {
   "source": [
    "## クラス分類による頭部の5方向推定\n",
    "\n",
    "Input: 1つの点群データの行列(600*3)\n",
    "\n",
    "Label: 0度、+-45度、+-90度の5クラス"
   ],
   "cell_type": "markdown",
   "metadata": {}
  },
  {
   "cell_type": "code",
   "execution_count": 1,
   "metadata": {},
   "outputs": [],
   "source": [
    "import torch\n",
    "import torch.nn as nn\n",
    "import torch.optim as optim\n",
    "import numpy as np\n",
    "import open3d as o3d"
   ]
  },
  {
   "cell_type": "code",
   "execution_count": 2,
   "metadata": {},
   "outputs": [],
   "source": [
    "class NonLinear(nn.Module):\n",
    "    def __init__(self, input_channels, output_channels):\n",
    "        super(NonLinear, self).__init__()\n",
    "        self.input_channels = input_channels\n",
    "        self.output_channels = output_channels\n",
    "\n",
    "        self.main = nn.Sequential(\n",
    "            nn.Linear(self.input_channels, self.output_channels),\n",
    "            nn.ReLU(inplace=True),\n",
    "            nn.BatchNorm1d(self.output_channels))\n",
    "\n",
    "    def forward(self, input):\n",
    "        return self.main(input)"
   ]
  },
  {
   "cell_type": "code",
   "execution_count": 3,
   "metadata": {},
   "outputs": [],
   "source": [
    "class MaxPool(nn.Module):\n",
    "    def __init__(self, num_channels, num_points):\n",
    "        super(MaxPool, self).__init__()\n",
    "        self.num_channels = num_channels\n",
    "        self.num_points = num_points\n",
    "        self.main = nn.MaxPool1d(self.num_points)\n",
    "    \n",
    "    def forward(self, input):\n",
    "        out = input.view(-1, self.num_channels, self.num_points)\n",
    "        out = self.main(out)\n",
    "        out = out.view(-1, self.num_channels)\n",
    "\n",
    "        return out"
   ]
  },
  {
   "cell_type": "code",
   "execution_count": null,
   "metadata": {},
   "outputs": [],
   "source": [
    "class InputTNet(nn.Module):\n",
    "    def __init__(self, num_points):\n",
    "        super().__init__()\n",
    "        self.num_points = num_points\n",
    "\n",
    "        self.main = nn.Sequential(\n",
    "            NonLinear(3, 64),\n",
    "            NonLinear(64, 128),\n",
    "            NonLinear(128, 1024),\n",
    "            MaxPool(1024, self.num_points),\n",
    "            NonLinear(1024, 512),\n",
    "            NonLinear(512, 256),\n",
    "            nn.Linear(256, 9)\n",
    "        )\n",
    "\n",
    "    def forward(self, input):\n",
    "        matrix = self.main(input).view(-1, 3, 3)\n",
    "        out = torch.matmul(input.view(-1, self.num_points, 3), matrix)\n",
    "        out = out.view(-1, 3)\n",
    "\n",
    "        return out"
   ]
  },
  {
   "cell_type": "code",
   "execution_count": null,
   "metadata": {},
   "outputs": [],
   "source": [
    "class FeatureTNet(nn.Module):\n",
    "    def __init__(self, num_points):\n",
    "        super(FeatureTNet, self).__init__()\n",
    "        self.num_points = num_points\n",
    "\n",
    "        self.main = nn.Sequential(\n",
    "            NonLinear(64, 64),\n",
    "            NonLinear(64, 128),\n",
    "            NonLinear(128, 1024),\n",
    "            MaxPool(1024, self.num_points),\n",
    "            NonLinear(1024, 512),\n",
    "            NonLinear(512, 256),\n",
    "            nn.Linear(256, 4096)\n",
    "        )\n",
    "    \n",
    "    def forward(self, input):\n",
    "        matrix = self.main(input).view(-1, 64, 64)\n",
    "        out = torch.matmul(input.view(-1, self.num_points, 64), matrix)\n",
    "        out = out.view(-1, 64)\n",
    "\n",
    "        return out"
   ]
  },
  {
   "cell_type": "code",
   "execution_count": null,
   "metadata": {},
   "outputs": [],
   "source": [
    "class PointNet(nn.Module):\n",
    "    def __init__(self, num_points, num_labels):\n",
    "        super(PointNet, self).__init__()\n",
    "        self.num_points = num_points\n",
    "        self.num_labels = num_labels\n",
    "\n",
    "        self.main = nn.Sequential(\n",
    "            InputTNet(self.num_points),\n",
    "            NonLinear(3, 64),\n",
    "            NonLinear(64, 64),\n",
    "            FeatureTNet(self.num_points),\n",
    "            NonLinear(64, 64),\n",
    "            NonLinear(64, 128),\n",
    "            NonLinear(128, 1024),\n",
    "            MaxPool(1024, self.num_points),\n",
    "            NonLinear(1024, 512),\n",
    "            nn.Dropout(p=0.3),\n",
    "            NonLinear(512, 256),\n",
    "            nn.Dropout(p=0.3),\n",
    "            NonLinear(256, self.num_labels)\n",
    "            nn.LogSoftmax(dim=1)\n",
    "        )\n",
    "\n",
    "    def forward(self, input):\n",
    "        return self.main(input)"
   ]
  },
  {
   "cell_type": "code",
   "execution_count": null,
   "metadata": {},
   "outputs": [],
   "source": [
    "def data_loader(num_points=600):\n",
    "    X = []\n",
    "    y = []\n",
    "    for label in range(5):\n",
    "        for i in range(10):\n",
    "            pcd = o3d.io.read_point_cloud(f\"../Data/five_position_class/{label}/{i}.pcd\")\n",
    "            points = np.array(pcd.points)[:num_points]\n",
    "            x.append(points)\n",
    "            y.append(i)\n",
    "\n",
    "    data_shuffle = torch.randperm(50)\n",
    "\n",
    "    return X[data_shuffle], y[data_shuffle]"
   ]
  },
  {
   "cell_type": "code",
   "execution_count": null,
   "metadata": {},
   "outputs": [],
   "source": [
    "# Main function\n",
    "\n",
    "batch_size = 50\n",
    "num_points = 64\n",
    "num_labels = 1\n",
    "epochs = 15\n",
    "\n",
    "pointnet = PointNet(num_points, num_labels)\n",
    "\n",
    "new_param = pointnet.state_dict()\n",
    "new_param['main.0.main.6.bias'] = torch.eye(3, 3).view(-1)\n",
    "new_param['main.3.main.6.bias'] = torch.eye(64, 64).view(-1)\n",
    "pointnet.load_state_dict(new_param)\n",
    "\n",
    "criterion = nn.NLLLoss()\n",
    "optimizer = optim.Adam(pointnet.parameters(), lr=0.001)\n",
    "\n",
    "loss_list = []\n",
    "accuracy_list = []\n",
    "\n",
    "# inputs, labels = data_loader()\n",
    "\n",
    "for iteration in range(100+1):\n",
    "    pointnet.zero_grad()\n",
    "    inputs, labels = data_loader()\n",
    "\n",
    "    outputs = pointnet(inputs)\n",
    "\n",
    "    error = criterion(outputs, labels)\n",
    "    error.backward()\n",
    "\n",
    "    optimizer.step()\n",
    "\n",
    "    with torch.no_grad():\n",
    "        _, pred = torch.max(outputs, 1)\n",
    "        accuracy = (pred==labels).sum().item()/batch_size\n",
    "\n",
    "    loss_list.append(error.item())\n",
    "    accuracy_list.append(accuracy)\n",
    "\n",
    "    if iteration % 10 == 0:\n",
    "        print(f'Iteration: {iteration}    Loss: {error.item()}')\n",
    "        print(f'Iteration: {iteration}    Accuracy: {accuracy}')"
   ]
  }
 ]
}